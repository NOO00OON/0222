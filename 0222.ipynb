{
 "cells": [
  {
   "cell_type": "code",
   "execution_count": 2,
   "id": "36bfaace",
   "metadata": {},
   "outputs": [
    {
     "data": {
      "text/plain": [
       "['__add__',\n",
       " '__class__',\n",
       " '__class_getitem__',\n",
       " '__contains__',\n",
       " '__delattr__',\n",
       " '__delitem__',\n",
       " '__dir__',\n",
       " '__doc__',\n",
       " '__eq__',\n",
       " '__format__',\n",
       " '__ge__',\n",
       " '__getattribute__',\n",
       " '__getitem__',\n",
       " '__gt__',\n",
       " '__hash__',\n",
       " '__iadd__',\n",
       " '__imul__',\n",
       " '__init__',\n",
       " '__init_subclass__',\n",
       " '__iter__',\n",
       " '__le__',\n",
       " '__len__',\n",
       " '__lt__',\n",
       " '__mul__',\n",
       " '__ne__',\n",
       " '__new__',\n",
       " '__reduce__',\n",
       " '__reduce_ex__',\n",
       " '__repr__',\n",
       " '__reversed__',\n",
       " '__rmul__',\n",
       " '__setattr__',\n",
       " '__setitem__',\n",
       " '__sizeof__',\n",
       " '__str__',\n",
       " '__subclasshook__',\n",
       " 'append',\n",
       " 'clear',\n",
       " 'copy',\n",
       " 'count',\n",
       " 'extend',\n",
       " 'index',\n",
       " 'insert',\n",
       " 'pop',\n",
       " 'remove',\n",
       " 'reverse',\n",
       " 'sort']"
      ]
     },
     "execution_count": 2,
     "metadata": {},
     "output_type": "execute_result"
    }
   ],
   "source": [
    "list_ = ['Jay', 25,78,88,95]\n",
    "dir(list_)"
   ]
  },
  {
   "cell_type": "code",
   "execution_count": 5,
   "id": "53abdee5",
   "metadata": {},
   "outputs": [
    {
     "name": "stdout",
     "output_type": "stream",
     "text": [
      "['Jay', 25, 78, 88, 95, 261, 87.0, 'B']\n"
     ]
    }
   ],
   "source": [
    "tot = list_[2] + list_[3]+list_[4]\n",
    "avg = tot / 3.\n",
    "\n",
    "grade = None\n",
    "\n",
    "if 90<=avg <= 100:\n",
    "    grade = 'A'\n",
    "elif 80<=avg<90:\n",
    "    grade='B'\n",
    "elif 70<=avg<80:\n",
    "    grade='C'\n",
    "elif 60<=avg<70:\n",
    "    grade='D'\n",
    "else:\n",
    "    grade='F'\n",
    "\n",
    "list_.append(tot)\n",
    "list_.append(avg)\n",
    "list_.append(grade)\n",
    "\n",
    "print(list_)"
   ]
  },
  {
   "cell_type": "code",
   "execution_count": 6,
   "id": "453db263",
   "metadata": {},
   "outputs": [
    {
     "name": "stdout",
     "output_type": "stream",
     "text": [
      "name :jay\n",
      "Korean :90\n",
      "English :90\n",
      "Math :90\n",
      "['jay', 90, 90, 90]\n"
     ]
    }
   ],
   "source": [
    "student_ = []\n",
    "name = input(\"name :\")\n",
    "kor = int(input(\"Korean :\"))\n",
    "eng = int(input(\"English :\"))\n",
    "math = int(input(\"Math :\"))\n",
    "\n",
    "student_.append(name)\n",
    "student_.append(kor)\n",
    "student_.append(eng)\n",
    "student_.append(math)\n",
    "\n",
    "print(student_)"
   ]
  },
  {
   "cell_type": "code",
   "execution_count": 7,
   "id": "91d108f5",
   "metadata": {},
   "outputs": [
    {
     "name": "stdout",
     "output_type": "stream",
     "text": [
      "('Jay', 90, 90, 90)\n"
     ]
    }
   ],
   "source": [
    "# tuple은 괄호없이도 값을 추가할 수 있다.\n",
    "tuple_ = 'Jay',90,90,90\n",
    "\n",
    "print(tuple_)"
   ]
  },
  {
   "cell_type": "code",
   "execution_count": 8,
   "id": "d851191b",
   "metadata": {},
   "outputs": [
    {
     "name": "stdout",
     "output_type": "stream",
     "text": [
      "{'이름': 'Jay', '나이': 25, '국어': 77, '영어': 88, '수학': 99, '총점': 264}\n"
     ]
    }
   ],
   "source": [
    "# dict\n",
    "student_ = {'이름' : 'Jay', '나이':25, '국어':77, '영어': 88, '수학': 99}\n",
    "\n",
    "tot = student_['국어'] + student_['영어']+ student_['수학']\n",
    "student_['총점'] = tot\n",
    "\n",
    "print(student_)"
   ]
  },
  {
   "cell_type": "code",
   "execution_count": 20,
   "id": "ec86f611",
   "metadata": {},
   "outputs": [
    {
     "name": "stdout",
     "output_type": "stream",
     "text": [
      "초단위 시간 입력하세요:1000\n",
      "1000초는 16분 40초 입니다.\n"
     ]
    }
   ],
   "source": [
    "# 초단위 시간을 입력받아서 몇분 몇초인지 계산하여 출력하세요\n",
    "time = int(input('초단위 시간 입력하세요:'))\n",
    "\n",
    "hour_ = time // 3600\n",
    "min_ = (time % 3600) // 60\n",
    "sec_ = (time % 3600) % 60 \n",
    "\n",
    "output = '1000초는 '\n",
    "\n",
    "if(hour_ > 0):\n",
    "    output += (str(hour_) + '시 ')\n",
    "\n",
    "if(min_ > 0):\n",
    "    output += (str(min_) + '분 ')\n",
    "    \n",
    "if(sec_ > 0):\n",
    "    output += (str(sec_) + '초 ')\n",
    "    \n",
    "output += '입니다.'\n",
    "\n",
    "print(output)"
   ]
  },
  {
   "cell_type": "code",
   "execution_count": 18,
   "id": "d208d1f8",
   "metadata": {},
   "outputs": [
    {
     "name": "stdout",
     "output_type": "stream",
     "text": [
      "초단위 시간 입력하세요:1000\n",
      "1000초는 0시간 16분 40초입니다.\n"
     ]
    }
   ],
   "source": [
    "# 강사님 코드\n",
    "\n",
    "second_ = int(input('초단위 시간 입력하세요:'))\n",
    "\n",
    "hour = second_ // 3600\n",
    "rest = second_ % 3600\n",
    "\n",
    "minute = rest // 60\n",
    "second = rest % 60 \n",
    "print('%d초는 %d시간 %d분 %d초입니다.' % (second_, hour, minute, second))"
   ]
  },
  {
   "cell_type": "code",
   "execution_count": null,
   "id": "1ab849a1",
   "metadata": {},
   "outputs": [],
   "source": [
    "name = input('Name : ')\n",
    "height = float(input('Heoght:'))\n",
    "weight = float(input('weight:'))\n",
    "\n",
    "height = height / 100\n",
    "\n",
    "bmi = weight /height **2\n",
    "\n",
    "bmi_str = None\n",
    "\n",
    "if bmi >= 35 : bmi_str = '고도비만'\n",
    "elif 30<=bmi<35: bmi_str = '중도비만'\n",
    "elif 25<=bmi<30: bmi_str = '경도비만'\n",
    "elif 23<=bmi<25: bmi_str = '과체중'\n",
    "elif 18.5<=bmi<23: bmi_str = '정상'\n",
    "else : bmi_str = '저체중'\n",
    "    \n",
    "    \n"
   ]
  },
  {
   "cell_type": "code",
   "execution_count": 1,
   "id": "a5ff3e05",
   "metadata": {},
   "outputs": [
    {
     "name": "stdout",
     "output_type": "stream",
     "text": [
      "1\n",
      "2\n",
      "3\n",
      "4\n",
      "5\n"
     ]
    }
   ],
   "source": [
    "for num in range(1,6):\n",
    "    print(num)"
   ]
  },
  {
   "cell_type": "code",
   "execution_count": 2,
   "id": "d49b15e4",
   "metadata": {},
   "outputs": [
    {
     "name": "stdout",
     "output_type": "stream",
     "text": [
      "7배수의 갯수는 71\n"
     ]
    }
   ],
   "source": [
    "count = 0\n",
    "for num in range(1,501):\n",
    "    if(num % 7 == 0):\n",
    "        count += 1\n",
    "print('7배수의 갯수는 %d'%count)"
   ]
  },
  {
   "cell_type": "code",
   "execution_count": 3,
   "id": "7a76296f",
   "metadata": {},
   "outputs": [
    {
     "name": "stdout",
     "output_type": "stream",
     "text": [
      "7  14  21  28  35  \n",
      "42  49  56  63  70  \n",
      "77  84  91  98  105  \n",
      "112  119  126  133  140  \n",
      "147  154  161  168  175  \n",
      "182  189  196  203  210  \n",
      "217  224  231  238  245  \n",
      "252  259  266  273  280  \n",
      "287  294  301  308  315  \n",
      "322  329  336  343  350  \n",
      "357  364  371  378  385  \n",
      "392  399  406  413  420  \n",
      "427  434  441  448  455  \n",
      "462  469  476  483  490  \n",
      "497  "
     ]
    }
   ],
   "source": [
    "count = 0\n",
    "for num in range(1, 501):\n",
    "    if num % 7 == 0 :\n",
    "        count+=1\n",
    "        print(num, end='  ')\n",
    "        if(count % 5 == 0):\n",
    "            print()"
   ]
  },
  {
   "cell_type": "code",
   "execution_count": 4,
   "id": "d3519fc5",
   "metadata": {},
   "outputs": [
    {
     "name": "stdout",
     "output_type": "stream",
     "text": [
      "1\n",
      "2\n",
      "3\n",
      "4\n",
      "5\n"
     ]
    }
   ],
   "source": [
    "num = 1\n",
    "while num <= 5:\n",
    "    print(num)\n",
    "    num+=1\n",
    "    "
   ]
  },
  {
   "cell_type": "code",
   "execution_count": 5,
   "id": "d4e475e6",
   "metadata": {},
   "outputs": [
    {
     "name": "stdout",
     "output_type": "stream",
     "text": [
      "A B C D E F G H I J K L M N O P Q R S T U V W X Y Z "
     ]
    }
   ],
   "source": [
    "for num in range(65,91):\n",
    "    print(chr(num), end=' ')"
   ]
  },
  {
   "cell_type": "code",
   "execution_count": 6,
   "id": "d039cde1",
   "metadata": {},
   "outputs": [
    {
     "name": "stdout",
     "output_type": "stream",
     "text": [
      "A B C D E \n",
      "F G H I J \n",
      "K L M N O \n",
      "P Q R S T \n",
      "U V W X Y \n",
      "Z "
     ]
    }
   ],
   "source": [
    "count = 0\n",
    "for num in range(65,91):\n",
    "    print(chr(num), end = ' ')\n",
    "    count = count + 1\n",
    "    if count % 5 == 0:\n",
    "        print()"
   ]
  },
  {
   "cell_type": "code",
   "execution_count": 9,
   "id": "5258ea5d",
   "metadata": {},
   "outputs": [
    {
     "name": "stdout",
     "output_type": "stream",
     "text": [
      "A B C D E \n",
      "f g h i j \n",
      "K L M N O \n",
      "p q r s t \n",
      "U V W X Y \n",
      "z "
     ]
    }
   ],
   "source": [
    "count = 0\n",
    "line = 1\n",
    "for num in range(65,91):\n",
    "    if line % 2 == 0:\n",
    "        print(chr(num + 32), end = ' ')\n",
    "    else:\n",
    "        print(chr(num), end = ' ')\n",
    "    count = count + 1\n",
    "    if count % 5 == 0:\n",
    "        line += 1\n",
    "        print()"
   ]
  },
  {
   "cell_type": "code",
   "execution_count": 11,
   "id": "50980b09",
   "metadata": {},
   "outputs": [
    {
     "name": "stdout",
     "output_type": "stream",
     "text": [
      "5050\n"
     ]
    }
   ],
   "source": [
    "sum = 0\n",
    "for num in range(1,101):\n",
    "    sum += num\n",
    "    \n",
    "print(sum)"
   ]
  },
  {
   "cell_type": "code",
   "execution_count": 12,
   "id": "55c81aeb",
   "metadata": {},
   "outputs": [
    {
     "name": "stdout",
     "output_type": "stream",
     "text": [
      "5050\n"
     ]
    }
   ],
   "source": [
    "def calcule():\n",
    "    sum = 0\n",
    "    for num in range(1,101):\n",
    "        sum += num\n",
    "\n",
    "    print(sum)\n",
    "    \n",
    "calcule()"
   ]
  },
  {
   "cell_type": "code",
   "execution_count": 20,
   "id": "5b9fa7f7",
   "metadata": {},
   "outputs": [],
   "source": [
    "def calcSum(last):\n",
    "    sum = 0\n",
    "    for num in range(1,last):\n",
    "        sum += num\n",
    "    print('1 ~ ',last,'합', sum , '입니다')"
   ]
  },
  {
   "cell_type": "code",
   "execution_count": 21,
   "id": "570965d2",
   "metadata": {},
   "outputs": [
    {
     "name": "stdout",
     "output_type": "stream",
     "text": [
      "1 ~  50 합 1225 입니다\n"
     ]
    }
   ],
   "source": [
    "calcSum(50)"
   ]
  },
  {
   "cell_type": "code",
   "execution_count": 22,
   "id": "9beffa3b",
   "metadata": {},
   "outputs": [],
   "source": [
    "#immutable : string number\n",
    "# mutable Object : list, tuple, dictoinary"
   ]
  },
  {
   "cell_type": "code",
   "execution_count": 26,
   "id": "018d86d4",
   "metadata": {},
   "outputs": [],
   "source": [
    "def changeme(other):\n",
    "    other = 100000"
   ]
  },
  {
   "cell_type": "code",
   "execution_count": 27,
   "id": "f77ec19e",
   "metadata": {},
   "outputs": [
    {
     "name": "stdout",
     "output_type": "stream",
     "text": [
      "10\n"
     ]
    }
   ],
   "source": [
    "original = 10\n",
    "changeme(original)\n",
    "print(original)"
   ]
  },
  {
   "cell_type": "code",
   "execution_count": 29,
   "id": "64f48b68",
   "metadata": {},
   "outputs": [],
   "source": [
    "def changeme(other):\n",
    "    other[2] = 'A'"
   ]
  },
  {
   "cell_type": "code",
   "execution_count": 30,
   "id": "776894ad",
   "metadata": {},
   "outputs": [
    {
     "name": "stdout",
     "output_type": "stream",
     "text": [
      "['apl', 'ada', 'A']\n"
     ]
    }
   ],
   "source": [
    "original = ['apl','ada','ssfsf']\n",
    "changeme(original)\n",
    "print(original)"
   ]
  },
  {
   "cell_type": "code",
   "execution_count": 31,
   "id": "8357f0b0",
   "metadata": {},
   "outputs": [
    {
     "name": "stdout",
     "output_type": "stream",
     "text": [
      "{'1': 'a', '2': 'A'}\n"
     ]
    }
   ],
   "source": [
    "def changeme(other):\n",
    "    other['2'] = 'A'\n",
    "    \n",
    "original = {'1':'a', '2':'b'}\n",
    "changeme(original)\n",
    "print(original)"
   ]
  },
  {
   "cell_type": "code",
   "execution_count": 36,
   "id": "01aaff5e",
   "metadata": {},
   "outputs": [],
   "source": [
    "def input_student(student):\n",
    "    student['name'] = input('name:')\n",
    "    student['age'] = int(input('age:'))\n",
    "    "
   ]
  },
  {
   "cell_type": "code",
   "execution_count": 37,
   "id": "630481e1",
   "metadata": {},
   "outputs": [],
   "source": [
    "def output_student(student):\n",
    "    print(student['name'], student['age'])"
   ]
  },
  {
   "cell_type": "code",
   "execution_count": 38,
   "id": "cd9f73f3",
   "metadata": {},
   "outputs": [
    {
     "name": "stdout",
     "output_type": "stream",
     "text": [
      "__main__\n"
     ]
    }
   ],
   "source": [
    "print(__name__)"
   ]
  },
  {
   "cell_type": "code",
   "execution_count": 39,
   "id": "8f7dfa46",
   "metadata": {},
   "outputs": [
    {
     "name": "stdout",
     "output_type": "stream",
     "text": [
      "name:a\n",
      "age:1\n",
      "a 1\n"
     ]
    }
   ],
   "source": [
    "student_ = {}\n",
    "if __name__ == '__main__':\n",
    "    input_student(student_)\n",
    "    output_student(student_)"
   ]
  },
  {
   "cell_type": "code",
   "execution_count": null,
   "id": "250ba299",
   "metadata": {},
   "outputs": [],
   "source": []
  }
 ],
 "metadata": {
  "kernelspec": {
   "display_name": "Python 3 (ipykernel)",
   "language": "python",
   "name": "python3"
  },
  "language_info": {
   "codemirror_mode": {
    "name": "ipython",
    "version": 3
   },
   "file_extension": ".py",
   "mimetype": "text/x-python",
   "name": "python",
   "nbconvert_exporter": "python",
   "pygments_lexer": "ipython3",
   "version": "3.10.6"
  }
 },
 "nbformat": 4,
 "nbformat_minor": 5
}
