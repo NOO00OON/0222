{
 "cells": [
  {
   "cell_type": "code",
   "execution_count": 6,
   "id": "1265d632",
   "metadata": {},
   "outputs": [],
   "source": [
    "import input_student\n",
    "import output_student"
   ]
  },
  {
   "cell_type": "code",
   "execution_count": 8,
   "id": "f73bf277",
   "metadata": {},
   "outputs": [
    {
     "name": "stdout",
     "output_type": "stream",
     "text": [
      "name:ads\n",
      "age:1\n",
      "ads 1\n"
     ]
    }
   ],
   "source": [
    "student_ = {}\n",
    "if __name__ == '__main__':\n",
    "    input_student.input_student(student_)\n",
    "    output_student.output_student(student_)"
   ]
  },
  {
   "cell_type": "code",
   "execution_count": 11,
   "id": "c7ab0f87",
   "metadata": {},
   "outputs": [
    {
     "name": "stdout",
     "output_type": "stream",
     "text": [
      "2.54\n",
      "5050\n"
     ]
    }
   ],
   "source": [
    "import util\n",
    "\n",
    "if __name__ == '__main__':\n",
    "    print(util.INCH)\n",
    "    print(util.clacSum())"
   ]
  },
  {
   "cell_type": "code",
   "execution_count": null,
   "id": "9af08674",
   "metadata": {},
   "outputs": [],
   "source": []
  }
 ],
 "metadata": {
  "kernelspec": {
   "display_name": "Python 3 (ipykernel)",
   "language": "python",
   "name": "python3"
  },
  "language_info": {
   "codemirror_mode": {
    "name": "ipython",
    "version": 3
   },
   "file_extension": ".py",
   "mimetype": "text/x-python",
   "name": "python",
   "nbconvert_exporter": "python",
   "pygments_lexer": "ipython3",
   "version": "3.10.6"
  }
 },
 "nbformat": 4,
 "nbformat_minor": 5
}
